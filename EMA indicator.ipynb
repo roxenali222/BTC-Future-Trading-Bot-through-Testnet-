{
 "cells": [
  {
   "cell_type": "code",
   "execution_count": 3,
   "metadata": {},
   "outputs": [
    {
     "name": "stderr",
     "output_type": "stream",
     "text": [
      "C:\\Users\\MTariq\\AppData\\Local\\Temp\\ipykernel_4352\\3267446557.py:16: FutureWarning: 'H' is deprecated and will be removed in a future version, please use 'h' instead.\n",
      "  df_resampled = df.resample('4H').agg({\n"
     ]
    },
    {
     "name": "stdout",
     "output_type": "stream",
     "text": [
      "                        open     high      low    close          EMA  signal  \\\n",
      "timestamp                                                                      \n",
      "2020-01-01 00:00:00  7195.24  7245.00  7175.46  7225.01  7227.161154      -1   \n",
      "2020-01-01 04:00:00  7225.00  7236.27  7199.11  7209.83  7210.428385      -1   \n",
      "2020-01-01 08:00:00  7209.83  7237.73  7180.00  7197.20  7205.165829      -1   \n",
      "2020-01-01 12:00:00  7197.20  7255.00  7196.15  7234.19  7230.579859       1   \n",
      "2020-01-01 16:00:00  7234.20  7249.99  7214.00  7229.48  7230.260333      -1   \n",
      "\n",
      "                    EMA signal  \n",
      "timestamp                       \n",
      "2020-01-01 00:00:00       Sell  \n",
      "2020-01-01 04:00:00       Sell  \n",
      "2020-01-01 08:00:00       Sell  \n",
      "2020-01-01 12:00:00        Buy  \n",
      "2020-01-01 16:00:00       Sell  \n"
     ]
    }
   ],
   "source": [
    "import pandas as pd\n",
    "\n",
    "# Load the data from the CSV file\n",
    "df = pd.read_csv('ohlc_1m_data_last_day.csv')\n",
    "\n",
    "# Ensure the 'timestamp' column is parsed as datetime\n",
    "df['timestamp'] = pd.to_datetime(df['timestamp'])\n",
    "\n",
    "# Set 'timestamp' as the index\n",
    "df.set_index('timestamp', inplace=True)\n",
    "\n",
    "# Calculate the Exponential Moving Average (EMA)\n",
    "df['EMA'] = df['close'].ewm(span=20, adjust=False).mean()  # Adjust the span according to your requirements\n",
    "\n",
    "# Resample the data to 4-hour intervals, using the last observed value\n",
    "df_resampled = df.resample('4H').agg({\n",
    "    'open': 'first',\n",
    "    'high': 'max',\n",
    "    'low': 'min',\n",
    "    'close': 'last',\n",
    "    'EMA': 'last'\n",
    "}).dropna()\n",
    "\n",
    "# Generate the signals based on EMA\n",
    "df_resampled['signal'] = 0\n",
    "df_resampled['EMA signal'] = ''\n",
    "\n",
    "# Buy signal: When the close price crosses above the EMA\n",
    "df_resampled.loc[df_resampled['close'] > df_resampled['EMA'], 'signal'] = 1\n",
    "df_resampled.loc[df_resampled['close'] > df_resampled['EMA'], 'EMA signal'] = 'Buy'\n",
    "\n",
    "# Sell signal: When the close price crosses below the EMA\n",
    "df_resampled.loc[df_resampled['close'] < df_resampled['EMA'], 'signal'] = -1\n",
    "df_resampled.loc[df_resampled['close'] < df_resampled['EMA'], 'EMA signal'] = 'Sell'\n",
    "\n",
    "# Save the result to a CSV file\n",
    "df_resampled.to_csv('EMA_4h_signal.csv')\n",
    "\n",
    "# To view the first few rows of the DataFrame with the signals\n",
    "print(df_resampled.head())\n"
   ]
  },
  {
   "cell_type": "code",
   "execution_count": null,
   "metadata": {},
   "outputs": [],
   "source": []
  }
 ],
 "metadata": {
  "kernelspec": {
   "display_name": "Python 3",
   "language": "python",
   "name": "python3"
  },
  "language_info": {
   "codemirror_mode": {
    "name": "ipython",
    "version": 3
   },
   "file_extension": ".py",
   "mimetype": "text/x-python",
   "name": "python",
   "nbconvert_exporter": "python",
   "pygments_lexer": "ipython3",
   "version": "3.11.9"
  }
 },
 "nbformat": 4,
 "nbformat_minor": 2
}
