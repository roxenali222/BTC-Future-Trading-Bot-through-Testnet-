{
 "cells": [
  {
   "cell_type": "markdown",
   "metadata": {},
   "source": [
    "# Super trend Tech Indicator"
   ]
  },
  {
   "cell_type": "code",
   "execution_count": 1,
   "metadata": {},
   "outputs": [],
   "source": [
    "import pandas as pd\n",
    "import numpy as np"
   ]
  },
  {
   "cell_type": "code",
   "execution_count": 2,
   "metadata": {},
   "outputs": [],
   "source": [
    "df = pd.read_csv('ohlc_1m_data_last_day.csv')"
   ]
  },
  {
   "cell_type": "code",
   "execution_count": 3,
   "metadata": {},
   "outputs": [],
   "source": [
    "df['ATR'] = df['high'] - df['low']\n",
    "df['ATR'] = df['ATR'].rolling(window=14).mean() "
   ]
  },
  {
   "cell_type": "code",
   "execution_count": 4,
   "metadata": {},
   "outputs": [],
   "source": [
    "multiplier  = 3"
   ]
  },
  {
   "cell_type": "code",
   "execution_count": 5,
   "metadata": {},
   "outputs": [],
   "source": [
    "df['basic_upper_band'] = (df['high'] + df['low']) / 2 + multiplier * df['ATR']\n",
    "df['basic_lower_band'] = (df['high'] + df['low']) / 2 - multiplier * df['ATR']"
   ]
  },
  {
   "cell_type": "markdown",
   "metadata": {},
   "source": [
    "# Generate buy/sell signals with supertrend indicator"
   ]
  },
  {
   "cell_type": "code",
   "execution_count": 2,
   "metadata": {},
   "outputs": [
    {
     "ename": "SyntaxError",
     "evalue": "invalid syntax (4114898738.py, line 19)",
     "output_type": "error",
     "traceback": [
      "\u001b[1;36m  Cell \u001b[1;32mIn[2], line 19\u001b[1;36m\u001b[0m\n\u001b[1;33m    'Signal':'last'\u001b[0m\n\u001b[1;37m            ^\u001b[0m\n\u001b[1;31mSyntaxError\u001b[0m\u001b[1;31m:\u001b[0m invalid syntax\n"
     ]
    }
   ],
   "source": [
    "df['Super_Trend'] = np.nan\n",
    "df['Super_Trend'] = np.where(df['close'] > df['basic_upper_band'].shift(1),\n",
    "                             df['basic_upper_band'],\n",
    "                             np.where(df['close'] < df['basic_lower_band'].shift(1),\n",
    "                                      df['basic_lower_band'],\n",
    "                                      np.nan))\n",
    "df['Super_Trend'].ffill(inplace=True)\n",
    "df['Super_Trend_signal'] = np.where(df['close'] > df['Super_Trend'], '1', '-1')\n",
    "df['Signals'] = np.where(df['Super_Trend_signal'] == '1', 'Buy', 'Sell')\n",
    "df['timestamp'] = pd.to_datetime(df['timestamp'])\n",
    "df.set_index('timestamp', inplace=True)\n",
    "resampled_df = df.resample('4H').agg({\n",
    "    'open': 'first',\n",
    "    'high': 'max',\n",
    "    'low': 'min',\n",
    "    'close': 'last',\n",
    "    'volume': 'sum',\n",
    "    'Super_Trend': 'last',\n",
    "    'Super_Trend_signal': 'last',\n",
    "    'Signals' : 'last'\n",
    "    \n",
    "})\n",
    "resampled_df.to_csv('signals_4h_supertrend.csv')\n",
    "print(\"Super Trend indicator and signals converted to 4H timeframe successfully.\")"
   ]
  },
  {
   "cell_type": "code",
   "execution_count": 13,
   "metadata": {},
   "outputs": [],
   "source": [
    "import sqlite3\n"
   ]
  },
  {
   "cell_type": "code",
   "execution_count": 14,
   "metadata": {},
   "outputs": [],
   "source": [
    "con = sqlite3.connect('example.db')\n",
    "cur = con.cursor()\n"
   ]
  },
  {
   "cell_type": "code",
   "execution_count": 16,
   "metadata": {},
   "outputs": [],
   "source": [
    "cur.execute('''CREATE TABLE Super_Trend\n",
    "               (date text, signals text, time text)''')\n",
    "cur.execute(\"INSERT INTO Super_Trend VALUES ('2024-05-01 ','Sell','00:00:00')\")\n",
    "con.commit()\n",
    "con.close()"
   ]
  },
  {
   "cell_type": "code",
   "execution_count": null,
   "metadata": {},
   "outputs": [],
   "source": []
  },
  {
   "cell_type": "code",
   "execution_count": null,
   "metadata": {},
   "outputs": [],
   "source": []
  }
 ],
 "metadata": {
  "kernelspec": {
   "display_name": "Python 3",
   "language": "python",
   "name": "python3"
  },
  "language_info": {
   "codemirror_mode": {
    "name": "ipython",
    "version": 3
   },
   "file_extension": ".py",
   "mimetype": "text/x-python",
   "name": "python",
   "nbconvert_exporter": "python",
   "pygments_lexer": "ipython3",
   "version": "3.11.9"
  }
 },
 "nbformat": 4,
 "nbformat_minor": 2
}
