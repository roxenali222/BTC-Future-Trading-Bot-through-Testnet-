{
 "cells": [
  {
   "cell_type": "code",
   "execution_count": 8,
   "metadata": {},
   "outputs": [
    {
     "name": "stderr",
     "output_type": "stream",
     "text": [
      "C:\\Users\\MTariq\\AppData\\Local\\Temp\\ipykernel_2624\\915425520.py:50: FutureWarning: 'H' is deprecated and will be removed in a future version, please use 'h' instead.\n",
      "  df_resampled = df.resample('4H').agg({\n"
     ]
    },
    {
     "name": "stdout",
     "output_type": "stream",
     "text": [
      "4-hour resampled data with combined signals generated successfully.\n"
     ]
    }
   ],
   "source": [
    "import pandas as pd\n",
    "import numpy as np\n",
    "\n",
    "# Load your OHLC data\n",
    "df = pd.read_csv('ohlc_1m_data_last_day.csv')\n",
    "\n",
    "# Ensure 'timestamp' is a datetime type\n",
    "df['timestamp'] = pd.to_datetime(df['timestamp'])\n",
    "df.set_index('timestamp', inplace=True)\n",
    "\n",
    "# Donchian Channel Parameters\n",
    "donchian_period = 20  # 20-period by default\n",
    "\n",
    "# Calculate Donchian Channel\n",
    "df['Donchian_High'] = df['high'].rolling(window=donchian_period).max()\n",
    "df['Donchian_Low'] = df['low'].rolling(window=donchian_period).min()\n",
    "\n",
    "# VWAP Calculation\n",
    "df['cumulative_volume'] = df['volume'].cumsum()\n",
    "df['cumulative_price_volume'] = (df['close'] * df['volume']).cumsum()\n",
    "df['VWAP'] = df['cumulative_price_volume'] / df['cumulative_volume']\n",
    "\n",
    "# Breadth Indicator (Example: Percentage of closes above a moving average)\n",
    "moving_average_period = 50\n",
    "df['Moving_Avg'] = df['close'].rolling(window=moving_average_period).mean()\n",
    "df['Breadth_Indicator'] = np.where(df['close'] > df['Moving_Avg'], 1, 0)\n",
    "\n",
    "# Generate signals using 1 for 'Buy' and -1 for 'Sell'\n",
    "df['Signal'] = np.where(\n",
    "    (df['close'] > df['Donchian_High'].shift(1)) & \n",
    "    (df['close'] > df['VWAP']) & \n",
    "    (df['Breadth_Indicator'] == 1), 1,\n",
    "    np.where(\n",
    "        (df['close'] < df['Donchian_Low'].shift(1)) & \n",
    "        (df['close'] < df['VWAP']) & \n",
    "        (df['Breadth_Indicator'] == 0), -1, np.nan\n",
    "    )\n",
    ")\n",
    "\n",
    "# Remove rows with NaN signals\n",
    "df.dropna(subset=['Signal'], inplace=True)\n",
    "\n",
    "# Convert Signal column to integer type\n",
    "df['Signal'] = df['Signal'].astype(int)\n",
    "\n",
    "# Map 1 to 'Buy' and -1 to 'Sell' in a separate 'Signal_Label' column\n",
    "df['Hybrid_signal'] = df['Signal'].map({1: 'Buy', -1: 'Sell'})\n",
    "\n",
    "# Resample to 4-hour intervals\n",
    "df_resampled = df.resample('4H').agg({\n",
    "    'open': 'first',\n",
    "    'high': 'max',\n",
    "    'low': 'min',\n",
    "    'close': 'last',\n",
    "    'volume': 'sum',\n",
    "    'Donchian_High': 'last',\n",
    "    'Donchian_Low': 'last',\n",
    "    'VWAP': 'last',\n",
    "    'Moving_Avg': 'last',\n",
    "    'Breadth_Indicator': 'last',\n",
    "    'Signal': lambda x: x.mode()[0] if not x.mode().empty else np.nan,  # Most frequent signal within the period\n",
    "    'Hybrid_signal': lambda x: x.mode()[0] if not x.mode().empty else np.nan  # Most frequent signal label within the period\n",
    "})\n",
    "\n",
    "# Remove rows where the signal is NaN\n",
    "df_resampled.dropna(subset=['Signal'], inplace=True)\n",
    "\n",
    "# Convert Signal column to integer type in the resampled DataFrame\n",
    "df_resampled['Signal'] = df_resampled['Signal'].astype(int)\n",
    "\n",
    "# Save the results to a new CSV file\n",
    "df_resampled.to_csv('4h_hybrid_signals.csv', index=True)\n",
    "\n",
    "print(\"4-hour resampled data with combined signals generated successfully.\")\n"
   ]
  },
  {
   "cell_type": "code",
   "execution_count": null,
   "metadata": {},
   "outputs": [],
   "source": []
  }
 ],
 "metadata": {
  "kernelspec": {
   "display_name": "Python 3",
   "language": "python",
   "name": "python3"
  },
  "language_info": {
   "codemirror_mode": {
    "name": "ipython",
    "version": 3
   },
   "file_extension": ".py",
   "mimetype": "text/x-python",
   "name": "python",
   "nbconvert_exporter": "python",
   "pygments_lexer": "ipython3",
   "version": "3.11.9"
  }
 },
 "nbformat": 4,
 "nbformat_minor": 2
}
