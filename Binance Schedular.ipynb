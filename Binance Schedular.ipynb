{
 "cells": [
  {
   "cell_type": "code",
   "execution_count": 1,
   "metadata": {},
   "outputs": [
    {
     "name": "stdout",
     "output_type": "stream",
     "text": [
      "Requirement already satisfied: binance in c:\\users\\mtariq\\downloads\\python-binance-master\\desktop\\python-binance-master\\tests\\.conda\\lib\\site-packages (0.3)\n",
      "Requirement already satisfied: pandas in c:\\users\\mtariq\\downloads\\python-binance-master\\desktop\\python-binance-master\\tests\\.conda\\lib\\site-packages (2.2.2)\n",
      "Requirement already satisfied: numpy>=1.23.2 in c:\\users\\mtariq\\downloads\\python-binance-master\\desktop\\python-binance-master\\tests\\.conda\\lib\\site-packages (from pandas) (1.26.4)\n",
      "Requirement already satisfied: python-dateutil>=2.8.2 in c:\\users\\mtariq\\downloads\\python-binance-master\\desktop\\python-binance-master\\tests\\.conda\\lib\\site-packages (from pandas) (2.9.0)\n",
      "Requirement already satisfied: pytz>=2020.1 in c:\\users\\mtariq\\downloads\\python-binance-master\\desktop\\python-binance-master\\tests\\.conda\\lib\\site-packages (from pandas) (2024.1)\n",
      "Requirement already satisfied: tzdata>=2022.7 in c:\\users\\mtariq\\downloads\\python-binance-master\\desktop\\python-binance-master\\tests\\.conda\\lib\\site-packages (from pandas) (2024.1)\n",
      "Requirement already satisfied: six>=1.5 in c:\\users\\mtariq\\downloads\\python-binance-master\\desktop\\python-binance-master\\tests\\.conda\\lib\\site-packages (from python-dateutil>=2.8.2->pandas) (1.16.0)\n",
      "Note: you may need to restart the kernel to use updated packages.\n"
     ]
    }
   ],
   "source": [
    "pip install binance pandas\n"
   ]
  },
  {
   "cell_type": "code",
   "execution_count": 24,
   "metadata": {},
   "outputs": [],
   "source": [
    "from binance.client import Client\n",
    "import pandas as pd\n",
    "from datetime import datetime, timedelta\n",
    "import os\n",
    "import time\n",
    "\n",
    "# Initialize the Binance client\n",
    "api_key = 'dd1a2703da01c24ccdbe10b2cbc9600a6218c41434d4453916766e1e817aabfe'\n",
    "api_secret = '2acb5c37db3c5646fdadb366cacb5d9a11ffe05d7b4d01dfb1b3047f2a2ea09a'\n",
    "client = Client(api_key, api_secret)\n",
    "client.API_URL = 'https://testnet.binance.vision/api'  # Use testnet for sandbox mode\n"
   ]
  },
  {
   "cell_type": "code",
   "execution_count": 25,
   "metadata": {},
   "outputs": [],
   "source": [
    "# Path to the CSV file\n",
    "csv_file_path = 'ohlc_1m_data_last_day.csv'\n"
   ]
  },
  {
   "cell_type": "code",
   "execution_count": 26,
   "metadata": {},
   "outputs": [],
   "source": [
    "def get_last_timestamp(csv_file_path):\n",
    "    if os.path.exists(csv_file_path):\n",
    "        df = pd.read_csv(csv_file_path, parse_dates=['timestamp'])\n",
    "        if not df.empty:\n",
    "            return int(df['timestamp'].max().timestamp() * 1000)\n",
    "    return int(datetime.strptime(\"2024-07-04 00:00:00\", \"%Y-%m-%d %H:%M:%S\").timestamp() * 1000)\n"
   ]
  },
  {
   "cell_type": "code",
   "execution_count": 27,
   "metadata": {},
   "outputs": [],
   "source": [
    "def fetch_ohlcv_data(symbol, interval, start_str):\n",
    "    klines = client.get_historical_klines(symbol, interval, start_str)\n",
    "    return klines\n"
   ]
  },
  {
   "cell_type": "code",
   "execution_count": 28,
   "metadata": {},
   "outputs": [],
   "source": [
    "def ohlcv_to_dataframe(data):\n",
    "    df = pd.DataFrame(data, columns=['timestamp', 'open', 'high', 'low', 'close', 'volume', 'close_time', 'quote_asset_volume', 'number_of_trades', 'taker_buy_base_asset_volume', 'taker_buy_quote_asset_volume', 'ignore'])\n",
    "    df['timestamp'] = pd.to_datetime(df['timestamp'], unit='ms')\n",
    "    df = df[['timestamp', 'open', 'high', 'low', 'close', 'volume']]\n",
    "    return df"
   ]
  },
  {
   "cell_type": "code",
   "execution_count": 29,
   "metadata": {},
   "outputs": [],
   "source": [
    "import pandas as pd\n",
    "def update_csv():\n",
    "    last_timestamp_ms = get_last_timestamp(csv_file_path)\n",
    "    last_timestamp_str = datetime.utcfromtimestamp(last_timestamp_ms / 1000).strftime('%d %b %Y %H:%M:%S')\n",
    "\n",
    "    symbol = 'BTCUSDT'\n",
    "    interval = Client.KLINE_INTERVAL_1MINUTE\n",
    "\n",
    "    # Fetch new data\n",
    "    new_data = fetch_ohlcv_data(symbol, interval, last_timestamp_str)\n",
    "    new_df = ohlcv_to_dataframe(new_data)\n",
    "\n",
    "    # Load existing CSV data\n",
    "    if os.path.exists(csv_file_path):\n",
    "        existing_df = pd.read_csv(csv_file_path, parse_dates=['timestamp'])\n",
    "    else:\n",
    "        existing_df = pd.DataFrame(columns=['timestamp', 'open', 'high', 'low', 'close', 'volume'])\n",
    "\n",
    "    # Append new data to the existing DataFrame\n",
    "    updated_df = pd.concat([existing_df, new_df]).drop_duplicates(subset='timestamp').sort_values(by='timestamp')\n",
    "\n",
    "    # Save the updated DataFrame to CSV\n",
    "    updated_df.to_csv(csv_file_path, index=False)\n",
    "    \n",
    "    print(f\"Data has been updated and saved to {csv_file_path}\")\n"
   ]
  },
  {
   "cell_type": "code",
   "execution_count": 30,
   "metadata": {},
   "outputs": [
    {
     "name": "stdout",
     "output_type": "stream",
     "text": [
      "Data has been updated and saved to ohlc_1m_data_last_day.csv\n",
      "Data has been updated and saved to ohlc_1m_data_last_day.csv\n"
     ]
    }
   ],
   "source": [
    "# Custom loop to periodically update CSV\n",
    "while True:\n",
    "    update_csv()\n",
    "    time.sleep(60)  # Run every 1 minute\n"
   ]
  }
 ],
 "metadata": {
  "kernelspec": {
   "display_name": "Python 3",
   "language": "python",
   "name": "python3"
  },
  "language_info": {
   "codemirror_mode": {
    "name": "ipython",
    "version": 3
   },
   "file_extension": ".py",
   "mimetype": "text/x-python",
   "name": "python",
   "nbconvert_exporter": "python",
   "pygments_lexer": "ipython3",
   "version": "3.11.9"
  }
 },
 "nbformat": 4,
 "nbformat_minor": 2
}
