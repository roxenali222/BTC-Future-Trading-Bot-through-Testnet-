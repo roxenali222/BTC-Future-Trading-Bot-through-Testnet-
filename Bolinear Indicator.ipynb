{
 "cells": [
  {
   "cell_type": "markdown",
   "metadata": {},
   "source": [
    "# Bollinger Bands indicator"
   ]
  },
  {
   "cell_type": "code",
   "execution_count": 1,
   "metadata": {},
   "outputs": [
    {
     "name": "stderr",
     "output_type": "stream",
     "text": [
      "C:\\Users\\MTariq\\AppData\\Local\\Temp\\ipykernel_1152\\3019690448.py:17: FutureWarning: Setting an item of incompatible dtype is deprecated and will raise an error in a future version of pandas. Value 'Buy' has dtype incompatible with float64, please explicitly cast to a compatible dtype first.\n",
      "  df.loc[df['close'] < df['BB_Lower'], 'BB_Signals'] = 'Buy'\n",
      "C:\\Users\\MTariq\\AppData\\Local\\Temp\\ipykernel_1152\\3019690448.py:26: FutureWarning: 'H' is deprecated and will be removed in a future version, please use 'h' instead.\n",
      "  df_resampled = df.resample('4H', on='timestamp').agg({\n"
     ]
    },
    {
     "name": "stdout",
     "output_type": "stream",
     "text": [
      "                        open     high      low    close     BB_Upper  \\\n",
      "timestamp                                                              \n",
      "2020-01-01 00:00:00  7195.24  7245.00  7175.46  7225.01  7231.275725   \n",
      "2020-01-01 04:00:00  7225.00  7236.27  7199.11  7209.83  7214.145374   \n",
      "2020-01-01 08:00:00  7209.83  7237.73  7180.00  7197.20  7237.216457   \n",
      "2020-01-01 12:00:00  7197.20  7255.00  7196.15  7234.19  7244.079857   \n",
      "2020-01-01 16:00:00  7234.20  7249.99  7214.00  7229.48  7235.314704   \n",
      "\n",
      "                        BB_Lower BB_Signals  Signal  \n",
      "timestamp                                            \n",
      "2020-01-01 00:00:00  7220.990275        Buy       1  \n",
      "2020-01-01 04:00:00  7200.996626        Buy       1  \n",
      "2020-01-01 08:00:00  7179.881543        Buy       1  \n",
      "2020-01-01 12:00:00  7219.126143       Sell      -1  \n",
      "2020-01-01 16:00:00  7226.242296       Sell      -1  \n"
     ]
    }
   ],
   "source": [
    "import pandas as pd\n",
    "import numpy as np\n",
    "\n",
    "# Load the 1-minute OHLCV data\n",
    "df = pd.read_csv('ohlc_1m_data_last_day.csv', parse_dates=['timestamp'])\n",
    "\n",
    "# Calculate Bollinger Bands\n",
    "def calculate_bollinger_bands(df, window=20, no_of_std=2):\n",
    "    df['MA'] = df['close'].rolling(window=window).mean()\n",
    "    df['BB_Upper'] = df['MA'] + (df['close'].rolling(window=window).std() * no_of_std)\n",
    "    df['BB_Lower'] = df['MA'] - (df['close'].rolling(window=window).std() * no_of_std)\n",
    "    return df\n",
    "\n",
    "# Generate BB signals\n",
    "def generate_bb_signals(df):\n",
    "    df['BB_Signals'] = np.nan  # Default to NaN for no signal\n",
    "    df.loc[df['close'] < df['BB_Lower'], 'BB_Signals'] = 'Buy'  \n",
    "    df.loc[df['close'] > df['BB_Upper'], 'BB_Signals'] = 'Sell'  \n",
    "    return df\n",
    "\n",
    "# Apply Bollinger Bands calculation and generate signals on 1-minute data\n",
    "df = calculate_bollinger_bands(df)\n",
    "df = generate_bb_signals(df)\n",
    "\n",
    "# Resample to 4-hour intervals\n",
    "df_resampled = df.resample('4H', on='timestamp').agg({\n",
    "    'open': 'first',\n",
    "    'high': 'max',\n",
    "    'low': 'min',\n",
    "    'close': 'last',\n",
    "    'BB_Upper': 'last',\n",
    "    'BB_Lower': 'last',\n",
    "    'BB_Signals': 'last'  \n",
    "})\n",
    "\n",
    "# Generate buy/sell signals for the 4-hour data\n",
    "df_resampled['Signal'] = np.where(df_resampled['close'] < df_resampled['BB_Lower'], 'Buy', \n",
    "                                  np.where(df_resampled['close'] > df_resampled['BB_Upper'], 'Sell', np.nan))\n",
    "\n",
    "# Convert NaN values in Signal column based on BB_Signals and ensure integer values\n",
    "df_resampled['Signal'] = df_resampled.apply(lambda row: 1 if row['BB_Signals'] == 'Buy' else \n",
    "                                            (-1 if row['BB_Signals'] == 'Sell' else np.nan), axis=1)\n",
    "\n",
    "# Convert the Signal column to integers\n",
    "df_resampled['Signal'] = df_resampled['Signal'].astype('Int64')  # Use 'Int64' to handle NaN values\n",
    "\n",
    "# Save the resampled data with signals\n",
    "df_resampled.to_csv('ohlc_4h_bb_signals.csv', index=False)\n",
    "\n",
    "print(df_resampled.head())\n"
   ]
  },
  {
   "cell_type": "code",
   "execution_count": null,
   "metadata": {},
   "outputs": [],
   "source": []
  }
 ],
 "metadata": {
  "kernelspec": {
   "display_name": "Python 3",
   "language": "python",
   "name": "python3"
  },
  "language_info": {
   "codemirror_mode": {
    "name": "ipython",
    "version": 3
   },
   "file_extension": ".py",
   "mimetype": "text/x-python",
   "name": "python",
   "nbconvert_exporter": "python",
   "pygments_lexer": "ipython3",
   "version": "3.11.9"
  }
 },
 "nbformat": 4,
 "nbformat_minor": 2
}
