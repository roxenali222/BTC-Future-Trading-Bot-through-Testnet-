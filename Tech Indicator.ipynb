{
 "cells": [
  {
   "cell_type": "markdown",
   "metadata": {},
   "source": [
    " # RSI"
   ]
  },
  {
   "cell_type": "code",
   "execution_count": 2,
   "metadata": {},
   "outputs": [
    {
     "name": "stdout",
     "output_type": "stream",
     "text": [
      "          RSI  rsi_signal\n",
      "19  72.873069          -1\n",
      "20  73.431724          -1\n",
      "21  70.877676          -1\n",
      "22  77.205674          -1\n",
      "23  79.961344          -1\n"
     ]
    }
   ],
   "source": [
    "import pandas as pd\n",
    "\n",
    "def calculate_RSI(data, window=14):\n",
    "    delta = data['close'].diff()\n",
    "    gain = (delta.where(delta > 0, 0)).fillna(0)\n",
    "    loss = (-delta.where(delta < 0, 0)).fillna(0)\n",
    "    \n",
    "    avg_gain = gain.rolling(window=window).mean()\n",
    "    avg_loss = loss.rolling(window=window).mean()\n",
    "    \n",
    "    rs = avg_gain / avg_loss\n",
    "    rsi = 100 - (100 / (1 + rs))\n",
    "    \n",
    "    return rsi\n",
    "\n",
    "def generate_signals(data):\n",
    "    signals = []\n",
    "    for i in range(len(data)):\n",
    "        if pd.notna(data['RSI'][i]):  # Check if RSI value is not NaN\n",
    "            if data['RSI'][i] < 40:  # RSI is oversold, consider buying\n",
    "                signals.append(1)  # Signal to buy\n",
    "            elif data['RSI'][i] > 60:  # RSI is overbought, consider selling\n",
    "                signals.append(-1)  # Signal to sell\n",
    "            else:\n",
    "                signals.append(0)  # No signal\n",
    "        else:\n",
    "            signals.append(0)  # No signal if RSI is NaN\n",
    "    return signals\n",
    "\n",
    "# Load the data\n",
    "df = pd.read_csv('ohlc_1h_data.csv')\n",
    "\n",
    "# Calculate RSI and add it to the DataFrame\n",
    "df['RSI'] = calculate_RSI(df)\n",
    "\n",
    "# Generate RSI signals\n",
    "df['rsi_signal'] = generate_signals(df)\n",
    "\n",
    "# Implement crossover logic (e.g., if RSI crosses above 60, sell; if RSI crosses below 40, buy)\n",
    "df['rsi_signal'] = 0\n",
    "df.loc[df['RSI'] > 70, 'rsi_signal'] = -1\n",
    "df.loc[df['RSI'] < 30, 'rsi_signal'] = 1\n",
    "\n",
    "# Print the tail of the DataFrame with RSI and signals\n",
    "print(df[['RSI', 'rsi_signal']].dropna().tail())\n",
    "\n",
    "# Save the full DataFrame with RSI and signals\n",
    "df.dropna().to_csv('signals.csv', index=False)\n"
   ]
  },
  {
   "cell_type": "code",
   "execution_count": 19,
   "metadata": {},
   "outputs": [
    {
     "name": "stdout",
     "output_type": "stream",
     "text": [
      "Resampled data for the date range 2023-01-01 to 2024-01-06 has been saved to 'ohlc_4h_data.csv'.\n"
     ]
    },
    {
     "name": "stderr",
     "output_type": "stream",
     "text": [
      "C:\\Users\\MTariq\\AppData\\Local\\Temp\\ipykernel_7160\\1876405260.py:26: FutureWarning: 'H' is deprecated and will be removed in a future version, please use 'h' instead.\n",
      "  ohlc_1h = df_date_range.resample('4H').agg({\n"
     ]
    }
   ],
   "source": [
    "import pandas as pd\n",
    "\n",
    "def process_data(input_csv, output_csv, start_date, end_date):\n",
    "    \"\"\"\n",
    "    Process 1-minute OHLC data: filter by date range, resample to 1-hour intervals, and save the result.\n",
    "    \n",
    "    Parameters:\n",
    "    - input_csv: str, path to the input CSV file containing 1-minute OHLC data.\n",
    "    - output_csv: str, path to the output CSV file for saving the resampled data.\n",
    "    - start_date: str, the start date for filtering the data (format: 'YYYY-MM-DD').\n",
    "    - end_date: str, the end date for filtering the data (format: 'YYYY-MM-DD').\n",
    "    \"\"\"\n",
    "    # Load the data\n",
    "    df = pd.read_csv(input_csv)\n",
    "\n",
    "    # Convert the 'timestamp' column to datetime\n",
    "    df['timestamp'] = pd.to_datetime(df['timestamp'])\n",
    "\n",
    "    # Set the 'timestamp' column as the index\n",
    "    df.set_index('timestamp', inplace=True)\n",
    "\n",
    "    # Filter the data for the desired date range\n",
    "    df_date_range = df.loc[start_date:end_date]\n",
    "\n",
    "    # Resample to 1-hour intervals and aggregate the OHLC data\n",
    "    ohlc_1h = df_date_range.resample('4H').agg({\n",
    "        'open': 'first',\n",
    "        'high': 'max',\n",
    "        'low': 'min',\n",
    "        'close': 'last'\n",
    "    }).dropna()\n",
    "\n",
    "    # Save the resampled data to a new CSV file\n",
    "    ohlc_1h.to_csv(output_csv)\n",
    "\n",
    "    print(f\"Resampled data for the date range {start_date} to {end_date} has been saved to '{output_csv}'.\")\n",
    "\n",
    "if __name__ == \"__main__\":\n",
    "    # Parameters\n",
    "    input_csv = 'ohlc_1m_data_last_day.csv'\n",
    "    output_csv = 'ohlc_4h_data.csv'\n",
    "    start_date = '2023-01-01'\n",
    "    end_date = '2024-01-06'\n",
    "    \n",
    "    # Execute the data processing function with the provided parameters\n",
    "    process_data(input_csv, output_csv, start_date, end_date)\n"
   ]
  },
  {
   "cell_type": "code",
   "execution_count": 20,
   "metadata": {},
   "outputs": [
    {
     "name": "stdout",
     "output_type": "stream",
     "text": [
      "RSI signals and additional columns have been applied and saved to '4h_rsi_signals.csv'.\n"
     ]
    }
   ],
   "source": [
    "import pandas as pd\n",
    "import ta\n",
    "\n",
    "def calculate_rsi(df, window):\n",
    "    \"\"\"\n",
    "    Calculate RSI using the provided window.\n",
    "    \"\"\"\n",
    "    df['RSI'] = ta.momentum.RSIIndicator(df['close'], window=window).rsi()\n",
    "    return df\n",
    "\n",
    "def generate_signals(df, rsi_lower, rsi_upper):\n",
    "    \"\"\"\n",
    "    Generate Buy/Sell signals based on RSI thresholds and filter out 'Hold' signals.\n",
    "    \"\"\"\n",
    "    df['rsi_signal'] = df['RSI'].apply(lambda x: 1 if x < rsi_lower else (-1 if x > rsi_upper else 0))\n",
    "    df['signals'] = df['rsi_signal'].apply(lambda x: 'Buy' if x == 1 else ('Sell' if x == -1 else ''))\n",
    "    # Filter out rows where the signal is 'Hold'\n",
    "    df_filtered = df[df['signals'] != '']\n",
    "    return df_filtered\n",
    "\n",
    "def main(input_csv, output_csv, rsi_window=14, rsi_lower=30, rsi_upper=70):\n",
    "    \"\"\"\n",
    "    Main function to process OHLC data, calculate RSI, generate signals, and save the result.\n",
    "    \"\"\"\n",
    "    # Step 1: Load your OHLC data\n",
    "    df = pd.read_csv(input_csv)\n",
    "    \n",
    "    # Step 2: Calculate RSI\n",
    "    df = calculate_rsi(df, rsi_window)\n",
    "    \n",
    "    # Step 3: Generate Buy/Sell signals and filter out 'Hold'\n",
    "    df_filtered = generate_signals(df, rsi_lower, rsi_upper)\n",
    "    \n",
    "    # Save the result to a new CSV file\n",
    "    df_filtered.to_csv(output_csv, index=False)\n",
    "    \n",
    "    print(f\"RSI signals and additional columns have been applied and saved to '{output_csv}'.\")\n",
    "\n",
    "if __name__ == \"__main__\":\n",
    "    # Parameters\n",
    "    input_csv = 'ohlc_4h_data.csv'\n",
    "    output_csv = '4h_rsi_signals.csv'\n",
    "    rsi_window = 14\n",
    "    rsi_lower = 30\n",
    "    rsi_upper = 70\n",
    "    \n",
    "    # Execute the main function with the provided parameters\n",
    "    main(input_csv, output_csv, rsi_window, rsi_lower, rsi_upper)\n"
   ]
  }
 ],
 "metadata": {
  "kernelspec": {
   "display_name": "Python 3",
   "language": "python",
   "name": "python3"
  },
  "language_info": {
   "codemirror_mode": {
    "name": "ipython",
    "version": 3
   },
   "file_extension": ".py",
   "mimetype": "text/x-python",
   "name": "python",
   "nbconvert_exporter": "python",
   "pygments_lexer": "ipython3",
   "version": "3.11.9"
  }
 },
 "nbformat": 4,
 "nbformat_minor": 2
}
