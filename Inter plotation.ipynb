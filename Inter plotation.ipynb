{
 "cells": [
  {
   "cell_type": "code",
   "execution_count": 1,
   "metadata": {},
   "outputs": [],
   "source": [
    "import pandas as pd\n",
    "\n",
    "# Load the CSV file\n",
    "csv_file_path = 'ohlc_1m_data_last_day.csv'\n",
    "df = pd.read_csv(csv_file_path)\n",
    "\n",
    "# Convert timestamps to datetime\n",
    "df['timestamp'] = pd.to_datetime(df['timestamp'])\n",
    "df.set_index('timestamp', inplace=True)\n"
   ]
  },
  {
   "cell_type": "code",
   "execution_count": 2,
   "metadata": {},
   "outputs": [
    {
     "name": "stderr",
     "output_type": "stream",
     "text": [
      "C:\\Users\\MTariq\\AppData\\Local\\Temp\\ipykernel_14548\\600969098.py:8: FutureWarning: 'T' is deprecated and will be removed in a future version, please use 'min' instead.\n",
      "  all_timestamps = pd.date_range(start=start_date, end=end_date, freq='T')\n"
     ]
    }
   ],
   "source": [
    "from datetime import datetime\n",
    "\n",
    "# Define the start and end dates\n",
    "start_date = datetime(2020, 1, 1)\n",
    "end_date = datetime(2024, 8, 12)\n",
    "\n",
    "# Generate a complete range of timestamps\n",
    "all_timestamps = pd.date_range(start=start_date, end=end_date, freq='T')\n",
    "complete_df = pd.DataFrame(index=all_timestamps)\n"
   ]
  },
  {
   "cell_type": "code",
   "execution_count": 3,
   "metadata": {},
   "outputs": [],
   "source": [
    "# Merge the existing data with the complete range of timestamps\n",
    "merged_df = complete_df.merge(df, how='left', left_index=True, right_index=True)\n"
   ]
  },
  {
   "cell_type": "code",
   "execution_count": 4,
   "metadata": {},
   "outputs": [],
   "source": [
    "# Interpolate the missing values\n",
    "interpolated_df = merged_df.interpolate(method='time')\n"
   ]
  },
  {
   "cell_type": "code",
   "execution_count": 5,
   "metadata": {},
   "outputs": [
    {
     "name": "stdout",
     "output_type": "stream",
     "text": [
      "Total missing timestamps after interpolation: 0\n"
     ]
    }
   ],
   "source": [
    "# Check for any remaining missing values (should be none if the interpolation is correct)\n",
    "total_missing_after_interpolation = interpolated_df.isnull().sum().sum()\n",
    "print(f\"Total missing timestamps after interpolation: {total_missing_after_interpolation}\")\n"
   ]
  },
  {
   "cell_type": "code",
   "execution_count": 6,
   "metadata": {},
   "outputs": [
    {
     "name": "stdout",
     "output_type": "stream",
     "text": [
      "Total missing timestamps after interpolation: 0\n"
     ]
    }
   ],
   "source": [
    "# Check for any remaining missing values (should be none if the interpolation is correct)\n",
    "total_missing_after_interpolation = interpolated_df.isnull().sum().sum()\n",
    "print(f\"Total missing timestamps after interpolation: {total_missing_after_interpolation}\")\n"
   ]
  },
  {
   "cell_type": "code",
   "execution_count": 7,
   "metadata": {},
   "outputs": [
    {
     "name": "stdout",
     "output_type": "stream",
     "text": [
      "                         open      high       low     close     volume\n",
      "2020-01-01 00:00:00   7195.24   7196.25   7183.14   7186.68  51.642812\n",
      "2020-01-01 00:01:00   7187.67   7188.06   7182.20   7184.03   7.248148\n",
      "2020-01-01 00:02:00   7184.41   7184.71   7180.26   7182.43  11.681677\n",
      "2020-01-01 00:03:00   7183.83   7188.94   7182.49   7185.94  10.025391\n",
      "2020-01-01 00:04:00   7185.54   7185.54   7178.64   7179.78  14.911105\n",
      "...                       ...       ...       ...       ...        ...\n",
      "2024-08-11 23:56:00  58793.21  58794.13  50000.00  58761.28   1.272000\n",
      "2024-08-11 23:57:00  58749.75  58843.46  50000.00  58717.27   0.366140\n",
      "2024-08-11 23:58:00  58717.27  58717.27  58700.39  58713.73   0.138600\n",
      "2024-08-11 23:59:00  58715.99  58718.00  58680.11  58711.99   0.213650\n",
      "2024-08-12 00:00:00  58712.33  74902.61  36719.00  58658.91   2.587140\n",
      "\n",
      "[2426401 rows x 5 columns]\n"
     ]
    }
   ],
   "source": [
    "# Save the interpolated DataFrame to a new CSV file\n",
    "interpolated_df.to_csv('ohlc_1m_data_last_day.csv')\n",
    "\n",
    "# Output the interpolated data\n",
    "print(interpolated_df)"
   ]
  }
 ],
 "metadata": {
  "kernelspec": {
   "display_name": "Python 3",
   "language": "python",
   "name": "python3"
  },
  "language_info": {
   "codemirror_mode": {
    "name": "ipython",
    "version": 3
   },
   "file_extension": ".py",
   "mimetype": "text/x-python",
   "name": "python",
   "nbconvert_exporter": "python",
   "pygments_lexer": "ipython3",
   "version": "3.11.9"
  }
 },
 "nbformat": 4,
 "nbformat_minor": 2
}
