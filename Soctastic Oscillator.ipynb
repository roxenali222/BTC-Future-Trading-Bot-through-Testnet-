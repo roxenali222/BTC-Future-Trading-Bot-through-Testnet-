{
 "cells": [
  {
   "cell_type": "code",
   "execution_count": 2,
   "metadata": {},
   "outputs": [
    {
     "name": "stderr",
     "output_type": "stream",
     "text": [
      "C:\\Users\\MTariq\\AppData\\Local\\Temp\\ipykernel_8744\\3031975852.py:33: FutureWarning: 'H' is deprecated and will be removed in a future version, please use 'h' instead.\n",
      "  df_4h = df.resample('4H').agg({\n"
     ]
    }
   ],
   "source": [
    "import pandas as pd\n",
    "\n",
    "# Load data and set index\n",
    "df = pd.read_csv('ohlc_1m_data_last_day.csv', parse_dates=['timestamp'])\n",
    "df.set_index('timestamp', inplace=True)\n",
    "\n",
    "# Stochastic Oscillator calculation\n",
    "n = 14  \n",
    "df['Lowest_Low'] = df['low'].rolling(window=n).min()\n",
    "df['Highest_High'] = df['high'].rolling(window=n).max()\n",
    "df['%K'] = ((df['close'] - df['Lowest_Low']) / (df['Highest_High'] - df['Lowest_Low'])) * 100\n",
    "df['%D'] = df['%K'].rolling(window=3).mean()\n",
    "\n",
    "# Shifted values for crossover detection\n",
    "df['%K_shift'] = df['%K'].shift(1)\n",
    "df['%D_shift'] = df['%D'].shift(1)\n",
    "\n",
    "# Signal generation\n",
    "df['Signal'] = 0  \n",
    "df['Signal'] = df.apply(\n",
    "    lambda row: 1 if (row['%K'] > row['%D']) and (row['%K_shift'] <= row['%D_shift']) else (\n",
    "        -1 if (row['%K'] < row['%D']) and (row['%K_shift'] >= row['%D_shift']) else 0\n",
    "    ), axis=1\n",
    ")\n",
    "\n",
    "# Remove \"Hold\" signals (i.e., where Signal == 0)\n",
    "df = df[df['Signal'] != 0]\n",
    "\n",
    "# Explicitly label signals as 'Buy' or 'Sell'\n",
    "df['SC_Signals'] = df['Signal'].apply(lambda x: 'Buy' if x == 1 else 'Sell')\n",
    "\n",
    "# Resample to 4-hour intervals\n",
    "df_4h = df.resample('4H').agg({\n",
    "    'open': 'first',\n",
    "    'high': 'max',\n",
    "    'low': 'min',\n",
    "    'close': 'last',\n",
    "    'volume': 'sum',\n",
    "    '%K': 'last',\n",
    "    '%D': 'last',\n",
    "    'Signal': 'last',  \n",
    "    'SC_Signals': 'last' \n",
    "}).dropna()\n",
    "\n",
    "# Save to CSV\n",
    "df_4h.to_csv('stochastic_4h_signals.csv')\n"
   ]
  },
  {
   "cell_type": "code",
   "execution_count": null,
   "metadata": {},
   "outputs": [],
   "source": []
  }
 ],
 "metadata": {
  "kernelspec": {
   "display_name": "Python 3",
   "language": "python",
   "name": "python3"
  },
  "language_info": {
   "codemirror_mode": {
    "name": "ipython",
    "version": 3
   },
   "file_extension": ".py",
   "mimetype": "text/x-python",
   "name": "python",
   "nbconvert_exporter": "python",
   "pygments_lexer": "ipython3",
   "version": "3.11.9"
  }
 },
 "nbformat": 4,
 "nbformat_minor": 2
}
